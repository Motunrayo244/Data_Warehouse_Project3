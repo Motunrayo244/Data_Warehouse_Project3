{
 "cells": [
  {
   "cell_type": "markdown",
   "metadata": {},
   "source": [
    "## AWS NOTEBOOK\n",
    "This notebook is used to create the AWS resources that will be used in the sparkify ETL project.\n",
    "Fill the dwh2.cfg file before running the cells in this notebook"
   ]
  },
  {
   "cell_type": "code",
   "execution_count": null,
   "metadata": {},
   "outputs": [],
   "source": [
    "import pandas as pd\n",
    "import boto3\n",
    "import json\n",
    "import configparser\n",
    "import numpy"
   ]
  },
  {
   "cell_type": "code",
   "execution_count": null,
   "metadata": {},
   "outputs": [],
   "source": [
    "config =configparser.ConfigParser()\n",
    "config.read_file(open('dwh2.cfg'))\n",
    "\n",
    "KEY = config.get('AWS','KEY')\n",
    "SECRET = config.get('AWS','SECRET')\n",
    "DB_NAME = config.get('CLUSTER','DB_NAME')\n",
    "DB_USER = config.get('CLUSTER','DB_USER')\n",
    "DB_PASSWORD = config.get('CLUSTER','DB_PASSWORD')\n",
    "DB_PORT= config.get('CLUSTER','DB_PORT')\n",
    "ARN = config.get('IAM_ROLE','ARN')\n",
    "IAM_ROLE_NAME = config.get('IAM_ROLE','IAM_ROLE_NAME')\n",
    "CLUSTER_NODE_TYPE=config.get('CLUSTER','CLUSTER_NODE_TYPE')\n",
    "CLUSTER_TYPE=config.get('CLUSTER','CLUSTER_TYPE')\n",
    "CLUSTER_IDENTIFIER=config.get('CLUSTER','CLUSTER_IDENTIFIER')\n",
    "CLUSTER_NUM_NODE=config.get('CLUSTER','CLUSTER_NUM_NODES')\n",
    "\n",
    "\n",
    "\n",
    "\n",
    "pd.DataFrame({\"Param\":\n",
    "    [\"CLUSTER_NODE_TYPE\",\"CLUSTER_TYPE\",\n",
    "    \"CLUSTER_IDENTIFIER\",\"CLUSTER_NUM_NODE\",\n",
    "    \"DB_NAME\",\"DB_USER\",\"DB_PASSWORD\",\"DB_PORT\",\n",
    "    \"ARN\",\"IAM_ROLE_NAME\",\"KEY\",\"SECRET\"],\n",
    "    \"Values\":[CLUSTER_NODE_TYPE,CLUSTER_TYPE,\n",
    "            CLUSTER_IDENTIFIER, CLUSTER_NUM_NODE,\n",
    "              DB_NAME,DB_USER,DB_PASSWORD,DB_PORT,\n",
    "              ARN,IAM_ROLE_NAME,KEY,SECRET]\n",
    "              })"
   ]
  },
  {
   "cell_type": "code",
   "execution_count": null,
   "metadata": {},
   "outputs": [],
   "source": [
    "s3= boto3.resource('s3',\n",
    "                    region_name='us-west-2',\n",
    "                    aws_access_key_id=KEY,\n",
    "                    aws_secret_access_key = SECRET\n",
    "                    )\n",
    "\n",
    "iam = boto3.client('iam',\n",
    "                   aws_access_key_id=KEY,\n",
    "                   aws_secret_access_key = SECRET,\n",
    "                   region_name='us-west-2'\n",
    "                   )\n",
    "\n",
    "redshift = boto3.client('redshift',\n",
    "                        region_name='us-west-2',\n",
    "                        aws_access_key_id=KEY,\n",
    "                        aws_secret_access_key = SECRET,\n",
    "                        )"
   ]
  },
  {
   "cell_type": "markdown",
   "metadata": {},
   "source": [
    "Attach the role created with AmazonS3ReadOnly access, remember to specify the name in dwg2.cfg"
   ]
  },
  {
   "cell_type": "code",
   "execution_count": null,
   "metadata": {},
   "outputs": [],
   "source": [
    "#Attach  IAMROLE\n",
    "\n",
    "from botocore.exceptions import ClientError\n",
    "\n",
    "# try:\n",
    "#     dwhRole = iam.create_role(\n",
    "#         Path='/',\n",
    "#         RoleName=IAM_ROLE_NAME,\n",
    "#         Description=\"Allows Redshift cluster to call AWS services on your behalf.\",\n",
    "#         AssumeRolePolicyDocument=json.dumps(\n",
    "#             {\n",
    "#                 'Statement':[{\n",
    "#                     'Action':'sts:AssumeRole',\n",
    "#                     'Effect':'Allow',\n",
    "#                     'Principal':{'Service':'redshift.amazonaws.com'}\n",
    "#                 }],\n",
    "#                 'Version':'2012-10-17'\n",
    "#             }\n",
    "#         )\n",
    "#     )\n",
    "# except Exception as e:\n",
    "#     print(e)\n",
    "    \n",
    "print(\"Attaching policy\")\n",
    "\n",
    "iam.attach_role_policy(RoleName=IAM_ROLE_NAME,\n",
    "                       PolicyArn=\"arn:aws:iam::aws:policy/AmazonS3ReadOnlyAccess\"\n",
    "                       )['ResponseMetadata']['HTTPStatusCode']\n",
    "                         \n",
    "                       \n",
    "print(\"Getting the IAM role ARN\") \n",
    "\n",
    "roleArn= iam.get_role(RoleName=IAM_ROLE_NAME)['Role']['Arn']\n",
    "\n",
    "print(roleArn)\n",
    "\n",
    "    "
   ]
  },
  {
   "cell_type": "markdown",
   "metadata": {},
   "source": [
    "#### Creating Redshift Cluster"
   ]
  },
  {
   "cell_type": "code",
   "execution_count": null,
   "metadata": {},
   "outputs": [],
   "source": [
    "try: \n",
    "    response = redshift.create_cluster(\n",
    "        ClusterType=CLUSTER_TYPE,\n",
    "        NodeType=CLUSTER_NODE_TYPE,\n",
    "        NumberOfNodes=int(CLUSTER_NUM_NODE),        \n",
    "        DBName=DB_NAME,\n",
    "        ClusterIdentifier=CLUSTER_IDENTIFIER,\n",
    "        MasterUsername=DB_USER,\n",
    "        MasterUserPassword=DB_PASSWORD,        \n",
    "        IamRoles=[ARN]\n",
    "        \n",
    "    )\n",
    "except Exception as e:\n",
    "    print(e)"
   ]
  },
  {
   "cell_type": "markdown",
   "metadata": {},
   "source": [
    "Wait a little while before running the next cell. if the output of cluster status is **creating** wait a bit again and try in 5 mins."
   ]
  },
  {
   "cell_type": "code",
   "execution_count": null,
   "metadata": {},
   "outputs": [],
   "source": [
    "def prettyRedshiftProps(props):\n",
    "    pd.set_option('display.max_colwidth',-1)\n",
    "    keysToShow=[\"ClusterIdentifier\",\"NodeType\",\"ClusterStatus\",\n",
    "                \"MasterUserName\",\"DBName\",\"Endpoint\",\"NumberOfNodes\",\"VpcId\"]\n",
    "    x =[(k,v) for k,v in props.items() if k in keysToShow]\n",
    "    return pd.DataFrame(data=x, columns=[\"Key\",\"Value\"])\n",
    "\n",
    "myClusterProps = redshift.describe_clusters(ClusterIdentifier=CLUSTER_IDENTIFIER)['Clusters'][0]\n",
    "prettyRedshiftProps(myClusterProps)"
   ]
  },
  {
   "cell_type": "code",
   "execution_count": null,
   "metadata": {},
   "outputs": [],
   "source": [
    "DWH_ENDPOINT = myClusterProps['Endpoint']['Address']\n",
    "DWH_ROLE_ARN = myClusterProps['IamRoles'][0]['IamRoleArn']\n",
    "print(\"DWH_ENDPOINT :: \",DWH_ENDPOINT)\n",
    "print(\"DWH_ROLE_ARN :: \", DWH_ROLE_ARN)"
   ]
  },
  {
   "cell_type": "markdown",
   "metadata": {},
   "source": [
    "Keep the ARN with the DWH_ENDPOINT and DWH_ROLE_ARN and input the value for host and ARN respectively.\n",
    "\n",
    "#### Open an incoming TCP port to access the cluster ednpoint"
   ]
  },
  {
   "cell_type": "code",
   "execution_count": null,
   "metadata": {},
   "outputs": [],
   "source": [
    "try:\n",
    "    vpc=ec2.Vpc(id=myClusterProps['VpcId'])\n",
    "    defaultSg = list(vpc.security_groups.all())[0]\n",
    "    print(defaultSg)\n",
    "    defaultSg.authorize_ingress(\n",
    "        GroupName=defaultSg.group_name,\n",
    "        CidrIp='0.0.0.0/0',\n",
    "        IpProtocol='TCP',\n",
    "        FromPort=int(DB_PORT),\n",
    "        ToPort=int(DB_PORT)\n",
    "    )\n",
    "except Exception as e:\n",
    "    print(e)"
   ]
  },
  {
   "cell_type": "markdown",
   "metadata": {},
   "source": [
    "### Delete AWS Resources\n",
    "When done  with all the scripts, clean up you resources to avoid being charged"
   ]
  },
  {
   "cell_type": "code",
   "execution_count": null,
   "metadata": {},
   "outputs": [],
   "source": [
    "#### CAREFUL!!\n",
    "#-- Uncomment & run to delete the created resources\n",
    "redshift.delete_cluster( ClusterIdentifier=CLUSTER_IDENTIFIER,  SkipFinalClusterSnapshot=True)\n",
    "#### CAREFUL!!"
   ]
  },
  {
   "cell_type": "code",
   "execution_count": null,
   "metadata": {},
   "outputs": [],
   "source": [
    "myClusterProps = redshift.describe_clusters(ClusterIdentifier=CLUSTER_IDENTIFIER)['Clusters'][0]\n",
    "prettyRedshiftProps(myClusterProps)"
   ]
  },
  {
   "cell_type": "code",
   "execution_count": null,
   "metadata": {},
   "outputs": [],
   "source": [
    "#### CAREFUL!!\n",
    "#-- Uncomment & run to delete the created resources\n",
    "iam.detach_role_policy(RoleName=IAM_ROLE_NAME, PolicyArn=\"arn:aws:iam::aws:policy/AmazonS3ReadOnlyAccess\")\n",
    "iam.delete_role(RoleName=IAM_ROLE_NAME)\n",
    "#### CAREFUL!!"
   ]
  },
  {
   "cell_type": "code",
   "execution_count": null,
   "metadata": {},
   "outputs": [],
   "source": []
  }
 ],
 "metadata": {
  "kernelspec": {
   "display_name": "Python 3.9.7 ('base')",
   "language": "python",
   "name": "python3"
  },
  "language_info": {
   "codemirror_mode": {
    "name": "ipython",
    "version": 3
   },
   "file_extension": ".py",
   "mimetype": "text/x-python",
   "name": "python",
   "nbconvert_exporter": "python",
   "pygments_lexer": "ipython3",
   "version": "3.9.7"
  },
  "orig_nbformat": 4,
  "vscode": {
   "interpreter": {
    "hash": "ad2bdc8ecc057115af97d19610ffacc2b4e99fae6737bb82f5d7fb13d2f2c186"
   }
  }
 },
 "nbformat": 4,
 "nbformat_minor": 2
}
